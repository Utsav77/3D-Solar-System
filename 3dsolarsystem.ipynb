{
 "cells": [
  {
   "cell_type": "code",
   "execution_count": null,
   "metadata": {},
   "outputs": [
    {
     "data": {
      "text/html": [
       "<div id=\"glowscript\" class=\"glowscript\"></div>"
      ],
      "text/plain": [
       "<IPython.core.display.HTML object>"
      ]
     },
     "metadata": {},
     "output_type": "display_data"
    },
    {
     "data": {
      "application/javascript": [
       "if (typeof Jupyter !== \"undefined\") { window.__context = { glowscript_container: $(\"#glowscript\").removeAttr(\"id\")};}else{ element.textContent = ' ';}"
      ],
      "text/plain": [
       "<IPython.core.display.Javascript object>"
      ]
     },
     "metadata": {},
     "output_type": "display_data"
    },
    {
     "data": {
      "application/javascript": [
       "if (typeof Jupyter !== \"undefined\") {require.undef(\"nbextensions/vpython_libraries/glow.min\");}else{element.textContent = ' ';}"
      ],
      "text/plain": [
       "<IPython.core.display.Javascript object>"
      ]
     },
     "metadata": {},
     "output_type": "display_data"
    },
    {
     "data": {
      "application/javascript": [
       "if (typeof Jupyter !== \"undefined\") {require.undef(\"nbextensions/vpython_libraries/glowcomm\");}else{element.textContent = ' ';}"
      ],
      "text/plain": [
       "<IPython.core.display.Javascript object>"
      ]
     },
     "metadata": {},
     "output_type": "display_data"
    },
    {
     "data": {
      "application/javascript": [
       "if (typeof Jupyter !== \"undefined\") {require.undef(\"nbextensions/vpython_libraries/jquery-ui.custom.min\");}else{element.textContent = ' ';}"
      ],
      "text/plain": [
       "<IPython.core.display.Javascript object>"
      ]
     },
     "metadata": {},
     "output_type": "display_data"
    },
    {
     "data": {
      "application/javascript": [
       "if (typeof Jupyter !== \"undefined\") {require([\"nbextensions/vpython_libraries/glow.min\"], function(){console.log(\"GLOW LOADED\");});}else{element.textContent = ' ';}"
      ],
      "text/plain": [
       "<IPython.core.display.Javascript object>"
      ]
     },
     "metadata": {},
     "output_type": "display_data"
    },
    {
     "data": {
      "application/javascript": [
       "if (typeof Jupyter !== \"undefined\") {require([\"nbextensions/vpython_libraries/glowcomm\"], function(){console.log(\"GLOWCOMM LOADED\");});}else{element.textContent = ' ';}"
      ],
      "text/plain": [
       "<IPython.core.display.Javascript object>"
      ]
     },
     "metadata": {},
     "output_type": "display_data"
    },
    {
     "data": {
      "application/javascript": [
       "if (typeof Jupyter !== \"undefined\") {require([\"nbextensions/vpython_libraries/jquery-ui.custom.min\"], function(){console.log(\"JQUERY LOADED\");});}else{element.textContent = ' ';}"
      ],
      "text/plain": [
       "<IPython.core.display.Javascript object>"
      ]
     },
     "metadata": {},
     "output_type": "display_data"
    }
   ],
   "source": [
    "from vpython import *\n",
    "\n",
    "ear_rad=0.101*1000\n",
    "ear_a=2369.56\n",
    "ear_e=0.017\n",
    "ear_c=40.2825\n",
    "ear_b=2369.21\n",
    "ear_av=0.05\n",
    "\n",
    "\n",
    "Sun=sphere(pos=vector(0,0,0),radius=109.0*5,emissive=True,texture=\"sun.jpeg\")\n",
    "Mercury=sphere(pos=vector(ear_c*4.27,0,ear_a*0.39),radius=ear_rad*0.38,emissive=True,texture=\"mercury.jpg\")\n",
    "Venus=sphere(pos=vector(ear_c*0.296,0,ear_a*0.72),radius=ear_rad*0.95,emissive=True,texture=\"venus.jpg\")\n",
    "Earth=sphere(pos=vector(ear_c,0,ear_a),radius=ear_rad,emissive=True,texture=\"earth.jpg\")\n",
    "Mars=sphere(pos=vector(ear_c*8.31,0,ear_a*1.52),radius=ear_rad*0.53,emissive=True,texture=\"mars.jpg\")\n",
    "Jupiter=sphere(pos=vector(ear_c*14.68,0,ear_a*5.2),radius=ear_rad*11.19,emissive=True,texture=\"jupiter.jpg\")\n",
    "Saturn=sphere(pos=vector(ear_c*30.304,0,ear_a*9.54),radius=ear_rad*9.4,emissive=True,texture=\"saturn.jpg\")\n",
    "Uranus=sphere(pos=vector(ear_c*53.13,0,ear_a*19.22),radius=ear_rad*4.04,emissive=True,texture=\"uranus.jpg\")\n",
    "Neptune=sphere(pos=vector(ear_c*9.105,0,ear_a*30.06),radius=ear_rad*3.88,emissive=True,texture=\"neptune.jpg\")\n",
    "\n",
    "\n",
    "# Declaring Orbital Rings of Celestial Body Objects\n",
    "Mercury.orbit = ring(pos = vec(ear_c*0.080,0,0), axis = vec(0, 1, 0), size=vec(50,2*ear_a*0.39,2*ear_b*0.3816))\n",
    "Venus.orbit   = ring(pos = vec(ear_c*0.296, 0, 0), axis = vec(0, 1, 0), size=vec(50,2*ear_a*0.72,2*ear_b*0.72))\n",
    "Earth.orbit   = ring(pos = vec(ear_c, 0, 0), axis = vec(0, 1, 0), size=vec(50,2*ear_a,2*ear_b))\n",
    "Mars.orbit    = ring(pos = vec(ear_c, 0, 0), axis = vec(0, 1, 0), size=vec(50,2*ear_a*1.52,2*ear_b*1.5137))\n",
    "Jupiter.orbit = ring(pos = vec(ear_c*14.68, 0, 0), axis = vec(0, 1, 0), size=vec(50,2*ear_a*5.2,2*ear_b*5.195))\n",
    "Saturn.orbit  = ring(pos = vec(ear_c*30.304, 0, 0), axis = vec(0, 1, 0), size=vec(50,2*ear_a*9.54,2*ear_b*9.5279))\n",
    "Uranus.orbit  = ring(pos = vec(ear_c*53.13, 0, 0), axis = vec(0, 1, 0), size=vec(50,2*ear_a*19.22,2*ear_b*19.2025))\n",
    "Neptune.orbit = ring(pos = vec(ear_c*9.105, 0, 0), axis = vec(0, 1, 0), size=vec(50,2*ear_a*30.06,2*ear_b*30.05))\n",
    "\n",
    "num=list(range(28))\n",
    "Saturn_rings=list(range(28))\n",
    "j=0\n",
    "Saturn_ring=[601.09,601.1,601.12,601.14,601.16,601.19,601.2,601.21,601.22,601.23,601.25,601.27,601.28,601.3,601.29,601.31,601.32,601.34,601.36,601.39,601.4,601.41,601.42,601.43,601.45,601.47,601.48,601.5]\n",
    "for i in Saturn_ring:\n",
    "    Saturn_rings[j]  = ring(pos=vec(ear_c*30.304,0,ear_a*9.54), axis = vec(-0.47, 1, 0), radius=(ear_rad*9.4)+i+200,thickness=20,emissive=True,texture=\"rings.png\")\n",
    "    j=j+1\n",
    "\n",
    "\n",
    "time = 0\n",
    "while True:\n",
    "    rate(10)\n",
    "    time += 1\n",
    "    Mercury.pos=vector(ear_a*0.39*sin(time*ear_av/0.2408),0,ear_b*0.3816*cos(time*ear_av/0.2408))\n",
    "    Venus.pos=vector(ear_a*0.72*sin(time*ear_av/0.6152),0,ear_b*0.72*cos(time*ear_av/0.6152))\n",
    "    Earth.pos=vector(ear_a*sin(time*ear_av),0,ear_b*cos(time*ear_av))\n",
    "    Mars.pos=vector(ear_a*1.52*sin(time*ear_av/1.88),0,ear_b*1.5137*cos(time*ear_av/1.88))\n",
    "    Jupiter.pos=vector(ear_a*5.2*sin(time*ear_av/11.86),0,ear_b*5.195*cos(time*ear_av/11.86))\n",
    "    Saturn.pos=vector(ear_a*9.54*sin(time*ear_av/29.46),0,ear_b*9.5279*cos(time*ear_av/29.46))\n",
    "    Uranus.pos=vector(ear_a*19.22*sin(time*ear_av/84.01),0,ear_b*19.2025*cos(time*ear_av/84.01))\n",
    "    Neptune.pos=vector(ear_a*30.06*sin(time*ear_av/164.79),0,ear_b*30.05*cos(time*ear_av/164.79))\n",
    "    for i in num:\n",
    "            Saturn_rings[i].pos=vector(ear_a*9.54*sin(time*ear_av/29.46),0,ear_b*9.5279*cos(time*ear_av/29.46))\n",
    "    \n",
    "    rate(15)\n",
    "    Sun.rotate(angle=radians(0.04082),axis=vec(0,1,0))\n",
    "    Mercury.rotate(angle=radians(0.0056),axis=vec(0,1,0))\n",
    "    Venus.rotate(angle=radians(0.0085),axis=vec(0,-1,0))\n",
    "    Earth.rotate(angle=radians(1),axis=vec(0,1,0))\n",
    "    Mars.rotate(angle=radians(0.9728),axis=vec(0,1,0))\n",
    "    Jupiter.rotate(angle=radians(2.4),axis=vec(0,1,0))\n",
    "    Saturn.rotate(angle=radians(2.1818),axis=vec(0,1,0))\n",
    "    Uranus.rotate(angle=radians(1.4117),axis=vec(0,-1,0))\n",
    "    Neptune.rotate(angle=radians(1.5),axis=vec(0,1,0))"
   ]
  },
  {
   "cell_type": "code",
   "execution_count": null,
   "metadata": {},
   "outputs": [],
   "source": []
  }
 ],
 "metadata": {
  "kernelspec": {
   "display_name": "VPython",
   "language": "python",
   "name": "vpython"
  },
  "language_info": {
   "codemirror_mode": {
    "name": "ipython",
    "version": 3
   },
   "file_extension": ".py",
   "mimetype": "text/x-python",
   "name": "python",
   "nbconvert_exporter": "python",
   "pygments_lexer": "ipython3",
   "version": "3.7.1"
  }
 },
 "nbformat": 4,
 "nbformat_minor": 2
}
